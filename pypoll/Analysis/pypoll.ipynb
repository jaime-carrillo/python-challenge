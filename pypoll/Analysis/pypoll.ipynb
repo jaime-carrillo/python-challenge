{
 "cells": [
  {
   "cell_type": "code",
   "execution_count": 28,
   "metadata": {
    "scrolled": true
   },
   "outputs": [],
   "source": [
    "# import os module\n",
    "import os\n",
    "# module for reading CSV files\n",
    "import csv\n",
    "import numpy\n",
    "\n",
    "csvpath = os.path.join('..','Resources','election_data.csv')"
   ]
  },
  {
   "cell_type": "code",
   "execution_count": 29,
   "metadata": {
    "scrolled": false
   },
   "outputs": [],
   "source": [
    "total_votes = 0\n",
    "candidates_list = []\n",
    "candidates_dictionary = {}\n",
    "\n",
    "with open(csvpath, 'r') as csvfile:\n",
    "    csvreader = (csv.reader(csvfile,delimiter=','))\n",
    "#     print(csvreader)\n",
    "    \n",
    "    csv_header = next(csvreader)\n",
    "#     print(f\"CSV Header:{csv_header}\")\n",
    "\n",
    "\n",
    "    for row in csvreader:\n",
    "        \n",
    "        total_votes += 1\n",
    "        \n",
    "#         print(row[2])\n",
    "        \n",
    "        if row[2] not in candidates_list:\n",
    "            \n",
    "            candidates_list.append(row[2])\n",
    "            \n",
    "            candidates_dictionary[row[2]] = 0\n",
    "            \n",
    "        candidates_dictionary[row[2]] += 1\n",
    "    "
   ]
  },
  {
   "cell_type": "code",
   "execution_count": 30,
   "metadata": {
    "scrolled": true
   },
   "outputs": [],
   "source": [
    "# candidates_dictionary"
   ]
  },
  {
   "cell_type": "code",
   "execution_count": 31,
   "metadata": {
    "scrolled": true
   },
   "outputs": [
    {
     "name": "stdout",
     "output_type": "stream",
     "text": [
      "Khan: 63.000% (2218231)\n",
      "Correy: 20.000% (704200)\n",
      "Li: 14.000% (492940)\n",
      "O'Tooley: 3.000% (105630)\n"
     ]
    }
   ],
   "source": [
    "for candidate, vote_count in candidates_dictionary.items():\n",
    "    print(f'{candidate}: {vote_count/total_votes*100:.3f}% ({vote_count})')"
   ]
  },
  {
   "cell_type": "code",
   "execution_count": 32,
   "metadata": {},
   "outputs": [
    {
     "name": "stdout",
     "output_type": "stream",
     "text": [
      "Khan\n"
     ]
    }
   ],
   "source": [
    "winner = max(candidates_dictionary, key=candidates_dictionary.get)\n",
    "print(winner)"
   ]
  },
  {
   "cell_type": "code",
   "execution_count": 34,
   "metadata": {},
   "outputs": [
    {
     "name": "stdout",
     "output_type": "stream",
     "text": [
      "Election Results\n",
      "----------------------\n",
      " Total Votes: 3521001\n",
      "----------------------\n",
      "Khan: 63.000% (2218231)\n",
      "Correy: 20.000% (704200)\n",
      "Li: 14.000% (492940)\n",
      "O'Tooley: 3.000% (105630)\n",
      "----------------------\n",
      " Winner: Khan\n",
      "----------------------\n"
     ]
    }
   ],
   "source": [
    "output_file = os.path.join('..','Analysis','pypoll_results.txt')\n",
    "\n",
    "with open (output_file, \"w\") as textfile:\n",
    "    print(f'Election Results')\n",
    "    textfile.write(f'\\nElection Results\\n')\n",
    "    print(f'----------------------')\n",
    "    textfile.write(f'----------------------\\n')\n",
    "    print(f' Total Votes: {total_votes}')\n",
    "    textfile.write(f' Total Votes: {total_votes}\\n')\n",
    "    print(f'----------------------')\n",
    "    textfile.write(f'----------------------\\n')\n",
    "    for candidate, vote_count in candidates_dictionary.items():\n",
    "        print(f'{candidate}: {vote_count/total_votes*100:.3f}% ({vote_count})')\n",
    "        textfile.write(f'{candidate}: {vote_count/total_votes*100:.3f}% ({vote_count})\\n')\n",
    "    print(f'----------------------')\n",
    "    textfile.write(f'----------------------\\n')\n",
    "    print(f' Winner: {winner}')\n",
    "    print(f'----------------------')\n",
    "    textfile.write(f'----------------------\\n')"
   ]
  },
  {
   "cell_type": "code",
   "execution_count": null,
   "metadata": {},
   "outputs": [],
   "source": []
  }
 ],
 "metadata": {
  "kernelspec": {
   "display_name": "Python 3",
   "language": "python",
   "name": "python3"
  },
  "language_info": {
   "codemirror_mode": {
    "name": "ipython",
    "version": 3
   },
   "file_extension": ".py",
   "mimetype": "text/x-python",
   "name": "python",
   "nbconvert_exporter": "python",
   "pygments_lexer": "ipython3",
   "version": "3.7.6"
  }
 },
 "nbformat": 4,
 "nbformat_minor": 4
}
