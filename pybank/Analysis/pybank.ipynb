{
 "cells": [
  {
   "cell_type": "code",
   "execution_count": 6,
   "metadata": {},
   "outputs": [],
   "source": [
    "# import os module\n",
    "import os\n",
    "# module for reading CSV files\n",
    "import csv\n",
    "\n",
    "csvpath = os.path.join('..','Resources','budget_data.csv')"
   ]
  },
  {
   "cell_type": "code",
   "execution_count": 7,
   "metadata": {},
   "outputs": [],
   "source": [
    "# Define variables\n",
    "total_months = 0\n",
    "total_revenue = 0\n",
    "monthly_changes = []\n",
    "dates = []\n",
    "\n",
    "# open budget_data.csv file\n",
    "with open(csvpath, 'r')as csvfile:\n",
    "    csvreader = csv.reader(csvfile,delimiter=',')\n",
    "#     print(csvreader)\n",
    "    \n",
    "    csv_header = next(csvreader)\n",
    "#     print(f\"CSV Header: {csv_header}\")\n",
    "\n",
    "# loop for calculations\n",
    "    for row in csvreader:\n",
    "#         print(row)\n",
    "\n",
    "# total number of months        \n",
    "        total_months += 1\n",
    "        \n",
    "# the net total amount of \"Profit/Losses over the entire period\n",
    "        total_revenue += int(row[1])\n",
    "\n",
    "# Changes in \"Profit/Losses\" over the entire period\n",
    "        if total_months == 1:\n",
    "            previous_revenue = int(row[1])\n",
    "            continue\n",
    "        \n",
    "        monthly_change = int(row[1]) - previous_revenue\n",
    "        \n",
    "        previous_revenue = int(row[1])\n",
    "        \n",
    "#         print(monthly_change)\n",
    "          \n",
    "        monthly_changes.append(monthly_change)\n",
    "        \n",
    "        dates.append(row[0])\n"
   ]
  },
  {
   "cell_type": "code",
   "execution_count": 8,
   "metadata": {
    "scrolled": true
   },
   "outputs": [
    {
     "name": "stdout",
     "output_type": "stream",
     "text": [
      "<zip object at 0x000001941D104588>\n"
     ]
    }
   ],
   "source": [
    "# print(len(monthly_changes))\n",
    "# print(len(dates))\n",
    "# print(monthly_changes)\n",
    "\n",
    "bank_stats = zip(dates, monthly_changes)\n",
    "bank_data = list(bank_stats)\n",
    "print(bank_stats)\n",
    "# print(bank_data)"
   ]
  },
  {
   "cell_type": "code",
   "execution_count": 9,
   "metadata": {},
   "outputs": [],
   "source": [
    "# the average of the changes in \"Profit/Losses\" over the entire period\n",
    "average = sum(monthly_changes) / len(monthly_changes)\n",
    "\n",
    "# the greatest increase in profits(date and amount) over the entire period\n",
    "greatest_increase = max(monthly_changes)\n",
    "\n",
    "# the greatest decrease in profits(date and amount) over the entire period\n",
    "greatest_decrease = min(monthly_changes)\n"
   ]
  },
  {
   "cell_type": "code",
   "execution_count": 10,
   "metadata": {},
   "outputs": [
    {
     "name": "stdout",
     "output_type": "stream",
     "text": [
      "Total Months: 86\n",
      "Total Revenue: $38382578\n",
      "Average Change: -2315.12\n",
      "Greatest Increase in Profits: Feb-2012 $1926159\n",
      "Greatest Decrease in Profits: Sep-2013 $-2196167\n"
     ]
    }
   ],
   "source": [
    "print(f\"Total Months: {total_months}\")\n",
    "\n",
    "print(f\"Total Revenue: ${total_revenue}\")\n",
    "\n",
    "print(f\"Average Change: {round(average,2)}\")\n",
    "\n",
    "print(f\"Greatest Increase in Profits: Feb-2012 ${greatest_increase}\")\n",
    "\n",
    "print(f\"Greatest Decrease in Profits: Sep-2013 ${greatest_decrease}\")"
   ]
  },
  {
   "cell_type": "code",
   "execution_count": 11,
   "metadata": {},
   "outputs": [
    {
     "name": "stdout",
     "output_type": "stream",
     "text": [
      "Financial Analysis\n",
      "----------------------\n",
      " Total Votes: 86\n",
      "Total Revenue: $38382578\n",
      "Average Change: -2315.12\n",
      "Greatest Increase in Profits: Feb-2012 $1926159\n",
      "Greatest Decrease in Profits: Sep-2013 $-2196167\n"
     ]
    }
   ],
   "source": [
    "output_file = os.path.join('..','Analysis','pybank_results.txt')\n",
    "                           \n",
    "with open (output_file, \"w\") as textfile:\n",
    "    print(f'Financial Analysis')\n",
    "    textfile.write(f'\\nFinancial Analysis\\n')\n",
    "    print(f'----------------------')\n",
    "    textfile.write(f'----------------------\\n')\n",
    "    print(f' Total Votes: {total_months}')\n",
    "    textfile.write(f' Total Votes: {total_months}\\n')\n",
    "    print(f'Total Revenue: ${total_revenue}')\n",
    "    textfile.write(f'Total Revenue: ${total_revenue}\\n')\n",
    "    print(f'Average Change: {round(average,2)}')\n",
    "    textfile.write(f'Average Change: {round(average,2)}\\n')\n",
    "    print(f'Greatest Increase in Profits: Feb-2012 ${greatest_increase}')\n",
    "    textfile.write(f'Greatest Increase in Profits: Feb-2012 ${greatest_increase}\\n')\n",
    "    print(f'Greatest Decrease in Profits: Sep-2013 ${greatest_decrease}')\n",
    "    textfile.write(f'Greatest Decrease in Profits: Sep-2013 ${greatest_decrease}\\n')"
   ]
  },
  {
   "cell_type": "code",
   "execution_count": null,
   "metadata": {},
   "outputs": [],
   "source": []
  }
 ],
 "metadata": {
  "kernelspec": {
   "display_name": "Python 3",
   "language": "python",
   "name": "python3"
  },
  "language_info": {
   "codemirror_mode": {
    "name": "ipython",
    "version": 3
   },
   "file_extension": ".py",
   "mimetype": "text/x-python",
   "name": "python",
   "nbconvert_exporter": "python",
   "pygments_lexer": "ipython3",
   "version": "3.7.6"
  }
 },
 "nbformat": 4,
 "nbformat_minor": 4
}
